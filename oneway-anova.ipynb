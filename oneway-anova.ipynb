{
 "cells": [
  {
   "cell_type": "markdown",
   "metadata": {},
   "source": [
    "# Oneway ANOVA (單一自變數於各分群間的差異分析)"
   ]
  },
  {
   "cell_type": "code",
   "execution_count": 43,
   "metadata": {
    "metadata": {}
   },
   "outputs": [],
   "source": [
    "import numpy as np\n",
    "import pandas as pd\n",
    "from scipy.stats import f_oneway"
   ]
  },
  {
   "cell_type": "code",
   "execution_count": 44,
   "metadata": {
    "metadata": {}
   },
   "outputs": [
    {
     "name": "stdout",
     "output_type": "stream",
     "text": [
      "independent_variables: ['b1', 'b10', 'b2', 'b3', 'b4', 'b5', 'b6', 'b7', 'b9', 'ndbi', 'ndvi', 'ndwi']\n"
     ]
    }
   ],
   "source": [
    "cluster_path = './cluster-result/1714460704_som_sklearn/cluster_20.csv'\n",
    "clusterData = pd.read_csv(cluster_path)\n",
    "groupedClusters = clusterData.groupby('cluster')\n",
    "independent_variables = list(clusterData.columns)\n",
    "independent_variables.remove('id')\n",
    "independent_variables.remove('cluster')\n",
    "print(f\"independent_variables: {independent_variables}\")\n",
    "p_value_threshold = 0.05"
   ]
  },
  {
   "cell_type": "code",
   "execution_count": 45,
   "metadata": {
    "metadata": {}
   },
   "outputs": [
    {
     "name": "stdout",
     "output_type": "stream",
     "text": [
      "顯著性水平為0.05\n",
      "組別之間b1變數, f值為128829.36593843608，p值為0.0，拒絕零假設，存在顯著差異。\n",
      "組別之間b10變數, f值為60073.25567049044，p值為0.0，拒絕零假設，存在顯著差異。\n",
      "組別之間b2變數, f值為127544.15867862807，p值為0.0，拒絕零假設，存在顯著差異。\n",
      "組別之間b3變數, f值為105773.20903582468，p值為0.0，拒絕零假設，存在顯著差異。\n",
      "組別之間b4變數, f值為119153.83496500472，p值為0.0，拒絕零假設，存在顯著差異。\n",
      "組別之間b5變數, f值為48175.7541607991，p值為0.0，拒絕零假設，存在顯著差異。\n",
      "組別之間b6變數, f值為29945.808225810808，p值為0.0，拒絕零假設，存在顯著差異。\n",
      "組別之間b7變數, f值為54296.627020047905，p值為0.0，拒絕零假設，存在顯著差異。\n",
      "組別之間b9變數, f值為6574.200604109232，p值為0.0，拒絕零假設，存在顯著差異。\n",
      "組別之間ndbi變數, f值為111205.7679296696，p值為0.0，拒絕零假設，存在顯著差異。\n",
      "組別之間ndvi變數, f值為323950.51177029614，p值為0.0，拒絕零假設，存在顯著差異。\n",
      "組別之間ndwi變數, f值為221116.35805952112，p值為0.0，拒絕零假設，存在顯著差異。\n"
     ]
    }
   ],
   "source": [
    "\n",
    "def oneway_anova(groupedClusters, independent_variable):\n",
    "\t\"\"\" ANONVA analysis for one independent variable across all clusters\"\"\"\n",
    "\tgroups = []\n",
    "\tfor name, group in groupedClusters:\n",
    "\t\tgroups.append(list(group[independent_variable]))\n",
    "\t\t \n",
    "\tf_statistic, p_value = f_oneway(\n",
    "\t\t*groups\n",
    "\t)\n",
    "\treturn f_statistic, p_value\n",
    "\n",
    "print(f\"顯著性水平為{p_value_threshold}\")\n",
    "for indp in independent_variables:\n",
    "\tf_statistic, p_value = oneway_anova(groupedClusters, indp)\n",
    "\toutput = f\"組別之間{indp}變數, f值為{f_statistic}，p值為{p_value}，\"\n",
    "\tif p_value < p_value_threshold:\n",
    "\t\toutput += \"拒絕零假設，存在顯著差異。\"\n",
    "\telse:\n",
    "\t\toutput += \"接受零假設，不存在顯著差異。\"\n",
    "\tprint(output)"
   ]
  }
 ],
 "metadata": {
  "kernelspec": {
   "display_name": "pytorch",
   "language": "python",
   "name": "python3"
  },
  "language_info": {
   "codemirror_mode": {
    "name": "ipython",
    "version": 3
   },
   "file_extension": ".py",
   "mimetype": "text/x-python",
   "name": "python",
   "nbconvert_exporter": "python",
   "pygments_lexer": "ipython3",
   "version": "3.7.13"
  }
 },
 "nbformat": 4,
 "nbformat_minor": 2
}
